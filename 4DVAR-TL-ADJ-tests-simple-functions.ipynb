{
 "cells": [
  {
   "cell_type": "markdown",
   "metadata": {},
   "source": [
    "# Tangent linear models and adjoint models: introduction\n",
    "\n",
    "This notebook describes the TL and adjoint models for various very simple models, and implements the tangent model test and the adjoint model test. Both are recalled right below.\n",
    "\n",
    "Most models used in this notebook are examples drawn from the lecture notes of my colleagues Arthur Vidard and Maëlle Nodet."
   ]
  },
  {
   "cell_type": "markdown",
   "metadata": {},
   "source": [
    "### Tangent model test\n",
    "\n",
    "The tangent test checks the Taylor expansion at first order:\n",
    "\n",
    "$$ f(x+\\gamma dx) = f(x) + \\gamma ~\\nabla f (x).dx $$\n",
    "\n",
    "where $\\nabla f (x)$ is the Jacobian of $f$ taken at $x$. We compute the variable-wise ratios:\n",
    "    \n",
    "$$ \\frac{f(x+\\gamma dx) - f(x)}{\\gamma ~\\nabla f (x).dx} $$\n",
    "    \n",
    "with denominator computed with the tangent linear model as $f_{tl}(x, \\gamma ~ dx)$. As $\\gamma$ tends to 0, the ratios must tend to 1."
   ]
  },
  {
   "cell_type": "markdown",
   "metadata": {},
   "source": [
    "### Adjoint test\n",
    "\n",
    "The adjoint test checks the following equality:\n",
    "\n",
    "$$ < \\nabla f (x).dx, dy > = < dx, \\nabla f (x)^{*}.dy > $$"
   ]
  },
  {
   "cell_type": "code",
   "execution_count": 1,
   "metadata": {},
   "outputs": [],
   "source": [
    "import numpy as np"
   ]
  },
  {
   "cell_type": "markdown",
   "metadata": {},
   "source": [
    "# Model 1\n",
    "\n",
    "The model simply is:\n",
    "\n",
    "$$ Z = X \\sin (Y^2) + a X^2 + bY +c $$\n",
    "\n",
    "where $X, Y, Z$ are the active variables and $a, b, c$ are fixed parameters.\n",
    "\n",
    "To make the exposition a little bit more general, we assume this function is step number $l$ in a process, transforming variables $X_{l-1}, Y_{l-1}, Z_{l-1}$ from step $l-1$ into $X_{l}, Y_{l}, Z_{l}$ at step $l$.\n",
    "\n",
    "The tangent linear model between writes:\n",
    "\n",
    "\\begin{eqnarray}\n",
    "\\delta X_{l} &=&\\delta X_{l-1} \\\\\n",
    "\\delta Y_{l} &=&\\delta Y_{l-1} \\\\\n",
    "\\delta Z_{l} &=& \\sin({Y_{l-1}}^2)~\\delta X_{l-1}~ + ~2 ~X_{l-1}~Y_{l-1}~\\cos({Y_{l-1}}^2)~\\delta Y_{l-1}~+~2~a~X_{l-1}~\\delta X_{l-1} ~+~ b~\\delta Y_{l-1}\n",
    "\\end{eqnarray}\n",
    "\n",
    "and the adjoint model:\n",
    "\\begin{eqnarray}\n",
    "ADX_{l-1} &=& ADX_l ~+ ~ \\left(~ \\sin({Y_{l-1}}^2) ~+ ~2~a~X_{l-1} ~\\right) ~ ADZ_l   \\\\\n",
    "ADY_{l-1} &=& ADY_l ~+ ~ \\left(~ 2 ~X_{l-1}~Y_{l-1}~\\cos({Y_{l-1}}^2) ~+ ~b ~ \\right) ~ADZ_l \\\\\n",
    "ADZ_{l-1} &=& 0  \n",
    "\\end{eqnarray}"
   ]
  },
  {
   "cell_type": "code",
   "execution_count": 2,
   "metadata": {},
   "outputs": [],
   "source": [
    "class Model1():\n",
    "    \n",
    "    def __init__(self):\n",
    "        self.nvar = 3\n",
    "        self.var = np.random.randn(3)\n",
    "        self.param = np.array([1, 2, 1.5])\n",
    "        \n",
    "    def run(self, x_in):\n",
    "        x = np.copy(x_in)\n",
    "        x[2] = x_in[0] * np.sin(x_in[1]**2)       \\\n",
    "            + self.param[0] * x_in[0]**2    \\\n",
    "            + self.param[1] * x_in[1] + self.param[2]\n",
    "        return x\n",
    "    \n",
    "    def run_tl(self, x_in, dx_in):\n",
    "        dx = np.copy(dx_in)\n",
    "        dx[2] = dx_in[0] * np.sin(x_in[1]**2) + 2 * x_in[0] * x_in[1] * np.cos(x_in[1]**2) * dx_in[1]      \\\n",
    "            + self.param[0] * 2 * x_in[0]*dx_in[0]    \\\n",
    "            + self.param[1] * dx_in[1]\n",
    "        return dx\n",
    "    \n",
    "    def run_adj(self, x_in, adj_in):\n",
    "        x_adj = np.copy(x_in)\n",
    "        x_adj[0] = ( np.sin(x_in[1]**2) + 2*self.param[0]*x_in[0] ) * adj_in[2] + adj_in[0]\n",
    "        x_adj[1] = ( 2*x_in[0]*x_in[1]*np.cos(x_in[1]**2) + self.param[1] ) * adj_in[2] + adj_in[1]\n",
    "        x_adj[2] = 0\n",
    "        return x_adj"
   ]
  },
  {
   "cell_type": "markdown",
   "metadata": {},
   "source": [
    "### Create instance"
   ]
  },
  {
   "cell_type": "code",
   "execution_count": 3,
   "metadata": {},
   "outputs": [],
   "source": [
    "m = Model1()"
   ]
  },
  {
   "cell_type": "markdown",
   "metadata": {},
   "source": [
    "### Perform tangent model test"
   ]
  },
  {
   "cell_type": "code",
   "execution_count": 4,
   "metadata": {},
   "outputs": [
    {
     "name": "stdout",
     "output_type": "stream",
     "text": [
      "(1, array([1.        , 1.        , 1.06629914]))\n",
      "(0.1, array([1.        , 1.        , 1.04755802]))\n",
      "(0.01, array([1.        , 1.        , 1.00530834]))\n",
      "(0.001, array([1.        , 1.        , 1.00053647]))\n",
      "(0.0001, array([1.       , 1.       , 1.0000537]))\n",
      "(1e-05, array([1.        , 1.        , 1.00000537]))\n",
      "(1e-06, array([1.        , 1.        , 1.00000054]))\n",
      "(1e-07, array([1.        , 1.        , 1.00000006]))\n"
     ]
    }
   ],
   "source": [
    "s = np.array([2., 1., -1.])\n",
    "ss = np.random.randn(3)\n",
    "for i in range(8):\n",
    "    gamma = 10**(-i)\n",
    "    ds = gamma * ss\n",
    "    ratio = ( m.run(s+ds) - m.run(s) ) / m.run_tl(s, ds)\n",
    "    print((gamma, ratio))"
   ]
  },
  {
   "cell_type": "markdown",
   "metadata": {},
   "source": [
    "### Perform adjoint model test"
   ]
  },
  {
   "cell_type": "code",
   "execution_count": 5,
   "metadata": {},
   "outputs": [
    {
     "data": {
      "text/plain": [
       "(10.87501436864407, 10.875014368644072)"
      ]
     },
     "execution_count": 5,
     "metadata": {},
     "output_type": "execute_result"
    }
   ],
   "source": [
    "sx = np.array([2., 1., -1.])\n",
    "dsx = np.random.randn(3)\n",
    "dsy = np.random.randn(3)\n",
    "zz1, zz2 = m.run_tl(sx, dsx), m.run_adj(sx, dsy)\n",
    "zz1@dsy, dsx@zz2"
   ]
  },
  {
   "cell_type": "markdown",
   "metadata": {},
   "source": [
    "# Model 2\n",
    "\n",
    "The model equation is:\n",
    "\n",
    "$$ Z = ZX + Y $$\n",
    "\n",
    "with all variables active. Compared with Model1, here $Z$ is used to compute $Z$ at the next step. This will highlight the need to be careful with the algorithm steps.\n",
    "\n",
    "The tangent linear model is:\n",
    "\n",
    "\\begin{eqnarray}\n",
    "\\delta X_{l} &=&\\delta X_{l-1} \\\\\n",
    "\\delta Y_{l} &=&\\delta Y_{l-1} \\\\\n",
    "\\delta Z_{l} &=& Z_{l-1}~\\delta X_{l-1}~ + ~\\delta Y_{l-1}~+~X_{l-1}~\\delta Z_{l-1}\n",
    "\\end{eqnarray}\n",
    "\n",
    "and the adjoint model:\n",
    "\n",
    "\\begin{eqnarray}\n",
    "ADX_{l-1} &=& ADX_l ~+ ~ Z_l ~ ADZ_l   \\\\\n",
    "ADY_{l-1} &=& ADY_l ~+ ~ ADZ_l \\\\\n",
    "ADZ_{l-1} &=&  X_l ~ ADZ_l \n",
    "\\end{eqnarray}\n",
    "\n",
    "If these equations are implemented recursively, overwriting current variables, the last line must come in last position. If not, the first two lines will use $ADZ_{l-1}$ instead of $ADZ_{l}$ and the adjoint model will be incorrect."
   ]
  },
  {
   "cell_type": "code",
   "execution_count": 6,
   "metadata": {},
   "outputs": [],
   "source": [
    "class Model2():\n",
    "    \n",
    "    def __init__(self):\n",
    "        self.nvar = 3\n",
    "        self.var = np.random.randn(3)\n",
    "        \n",
    "    def run(self, x_in):\n",
    "        x = np.copy(x_in)\n",
    "        x[2] = x_in[0] * x_in[2] + x_in[1]\n",
    "        return x\n",
    "    \n",
    "    def run_tl(self, x_in, dx_in):\n",
    "        dx = np.copy(dx_in)\n",
    "        dx[2] = x_in[2] * dx_in[0] + dx_in[1] + x_in[0]*dx_in[2]\n",
    "        return dx\n",
    "    \n",
    "    def run_adj(self, x_in, adj_in):\n",
    "        x_adj = np.copy(x_in)\n",
    "        x_adj[0] = adj_in[0] + x_in[2] * adj_in[2]\n",
    "        x_adj[1] = adj_in[1] + adj_in[2]\n",
    "        x_adj[2] = x_in[0] * adj_in[2]\n",
    "        return x_adj"
   ]
  },
  {
   "cell_type": "markdown",
   "metadata": {},
   "source": [
    "### Create instance"
   ]
  },
  {
   "cell_type": "code",
   "execution_count": 7,
   "metadata": {},
   "outputs": [],
   "source": [
    "m = Model2()"
   ]
  },
  {
   "cell_type": "markdown",
   "metadata": {},
   "source": [
    "### Perform tangent model test"
   ]
  },
  {
   "cell_type": "code",
   "execution_count": 8,
   "metadata": {},
   "outputs": [
    {
     "name": "stdout",
     "output_type": "stream",
     "text": [
      "(1, array([1.        , 1.        , 0.82653826]))\n",
      "(0.1, array([1.        , 1.        , 0.98265383]))\n",
      "(0.01, array([1.        , 1.        , 0.99826538]))\n",
      "(0.001, array([1.        , 1.        , 0.99982654]))\n",
      "(0.0001, array([1.        , 1.        , 0.99998265]))\n",
      "(1e-05, array([1.        , 1.        , 0.99999827]))\n",
      "(1e-06, array([1.        , 1.        , 0.99999983]))\n",
      "(1e-07, array([1.        , 1.        , 0.99999999]))\n"
     ]
    }
   ],
   "source": [
    "s = np.array([2., 1., -1.])\n",
    "ss = np.random.randn(3)\n",
    "for i in range(8):\n",
    "    gamma = 10**(-i)\n",
    "    ds = gamma * ss\n",
    "    ratio = ( m.run(s+ds) - m.run(s) ) / m.run_tl(s, ds)\n",
    "    print((gamma, ratio))"
   ]
  },
  {
   "cell_type": "markdown",
   "metadata": {},
   "source": [
    "### Perform adjoint model test"
   ]
  },
  {
   "cell_type": "code",
   "execution_count": 9,
   "metadata": {},
   "outputs": [
    {
     "data": {
      "text/plain": [
       "(-12.465707683833914, -12.465707683833916)"
      ]
     },
     "execution_count": 9,
     "metadata": {},
     "output_type": "execute_result"
    }
   ],
   "source": [
    "sx = np.array([2., 1., -1.])\n",
    "dsx = np.random.randn(3)\n",
    "dsy = np.random.randn(3)\n",
    "zz1, zz2 = m.run_tl(sx, dsx), m.run_adj(sx, dsy)\n",
    "zz1@dsy, dsx@zz2"
   ]
  },
  {
   "cell_type": "code",
   "execution_count": null,
   "metadata": {},
   "outputs": [],
   "source": []
  },
  {
   "cell_type": "markdown",
   "metadata": {},
   "source": [
    "## Model 3\n",
    "\n",
    "This model presents a loop:\n",
    "$$ Y = F \\times \\prod_{i=1}^n X_i $$\n",
    "\n",
    "The adjoint function requires the online recomputation of a parameter. Alternatives are to store values during a forward computation (in a file or an array)."
   ]
  },
  {
   "cell_type": "code",
   "execution_count": 10,
   "metadata": {},
   "outputs": [],
   "source": [
    "class Model3():\n",
    "        \n",
    "    def run(self, F, X):\n",
    "        \"\"\"F, X: input. Y: output\"\"\"\n",
    "        nx = len(X)\n",
    "        Y = F\n",
    "        for i in range(nx):\n",
    "            Y *= X[i]\n",
    "        return Y\n",
    "    \n",
    "    def run_tl(self, F, X, dFin, dXin):\n",
    "        nx = len(X)\n",
    "        Y, dY = F, dFin\n",
    "        for i in range(nx):\n",
    "            dY = X[i]*dY + Y*dXin[i]\n",
    "            Y = Y*X[i]\n",
    "        return dY\n",
    "    \n",
    "    def run_adj(self, F, X, adFin, adXin, adYin):\n",
    "        \"\"\"Adjoint model.\"\"\"\n",
    "        nx = len(X)\n",
    "        adF, adX = adYin, adXin\n",
    "        for i in range(nx-1,-1,-1):\n",
    "            ## Compute Fout at appropriate iteration\n",
    "            Fout = F\n",
    "            for j in range(i):\n",
    "                Fout = Fout*X[j]\n",
    "            adX[i] += Fout*adF  ## need to compute Fout!\n",
    "            adF = X[i]*adF\n",
    "        adF += adFin\n",
    "        return adF, adX"
   ]
  },
  {
   "cell_type": "markdown",
   "metadata": {},
   "source": [
    "### Create instance"
   ]
  },
  {
   "cell_type": "code",
   "execution_count": 11,
   "metadata": {},
   "outputs": [],
   "source": [
    "m = Model3()"
   ]
  },
  {
   "cell_type": "code",
   "execution_count": 12,
   "metadata": {},
   "outputs": [
    {
     "data": {
      "text/plain": [
       "-2.0"
      ]
     },
     "execution_count": 12,
     "metadata": {},
     "output_type": "execute_result"
    }
   ],
   "source": [
    "s, F = np.array([2., 1., -1.]), 1.\n",
    "m.run(F,s)"
   ]
  },
  {
   "cell_type": "markdown",
   "metadata": {},
   "source": [
    "### Perform tangent model test"
   ]
  },
  {
   "cell_type": "code",
   "execution_count": 13,
   "metadata": {},
   "outputs": [
    {
     "name": "stdout",
     "output_type": "stream",
     "text": [
      "(1, array([1.09539823]))\n",
      "(0.1, array([1.02041166]))\n",
      "(0.01, array([1.00215928]))\n",
      "(0.001, array([1.00021712]))\n",
      "(0.0001, array([1.00002172]))\n",
      "(1e-05, array([1.00000217]))\n",
      "(1e-06, array([1.00000022]))\n",
      "(1e-07, array([1.00000002]))\n"
     ]
    }
   ],
   "source": [
    "s, F = np.array([2., 1., -1.]), 1.\n",
    "ss, FF = np.random.randn(3), np.random.randn(1)\n",
    "for i in range(8):\n",
    "    gamma = 10**(-i)\n",
    "    ds, dF = gamma * ss, gamma * FF\n",
    "    ratio = ( m.run(F+dF, s+ds) - m.run(F,s) ) / m.run_tl(F, s, dF, ds)\n",
    "    print((gamma, ratio))"
   ]
  },
  {
   "cell_type": "markdown",
   "metadata": {},
   "source": [
    "### Perform adjoint model test"
   ]
  },
  {
   "cell_type": "code",
   "execution_count": 14,
   "metadata": {},
   "outputs": [
    {
     "data": {
      "text/plain": [
       "(array([0.01773841]), array([0.01773841]))"
      ]
     },
     "execution_count": 14,
     "metadata": {},
     "output_type": "execute_result"
    }
   ],
   "source": [
    "s, F = np.array([2., 1., -1.]), 3.\n",
    "ds, dF = 0.1*np.random.randn(3), 0.1*np.random.randn(1)\n",
    "dY = 0.1*np.random.randn(1)\n",
    "\n",
    "zz1 = m.run_tl(F, s, dF, ds)\n",
    "zz2 = m.run_adj(F, s, 0, np.zeros(3), dY)\n",
    "\n",
    "zz1*dY , dF*zz2[0]+ds@zz2[1]"
   ]
  },
  {
   "cell_type": "code",
   "execution_count": null,
   "metadata": {},
   "outputs": [],
   "source": []
  }
 ],
 "metadata": {
  "kernelspec": {
   "display_name": "Python 3 (ipykernel)",
   "language": "python",
   "name": "python3"
  },
  "language_info": {
   "codemirror_mode": {
    "name": "ipython",
    "version": 3
   },
   "file_extension": ".py",
   "mimetype": "text/x-python",
   "name": "python",
   "nbconvert_exporter": "python",
   "pygments_lexer": "ipython3",
   "version": "3.7.13"
  }
 },
 "nbformat": 4,
 "nbformat_minor": 2
}
