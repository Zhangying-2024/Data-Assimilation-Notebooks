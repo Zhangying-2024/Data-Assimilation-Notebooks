{
 "cells": [
  {
   "cell_type": "markdown",
   "metadata": {},
   "source": [
    "# Exercise on the BLUE analysis\n",
    "\n",
    "* Emmanuel Cosme, 2018\n",
    "* This exercise is designed to be solved on the back of an envelope."
   ]
  },
  {
   "cell_type": "markdown",
   "metadata": {},
   "source": [
    "## Problem\n",
    "We are interested in the estimation of [Tg, Tc], air temperature in Grenoble and Chambéry. We have prior estimations equal to [10, 5]. These estimations are contaminated by errors, which standard deviation is 1°C for both. Based on past studies, we also estimate that these prior estimation errors in Grenoble and Chambéry are correlated with coefficient 0.25.\n",
    "\n",
    "A colleague provides us a measurement of temperature in Chambéry: $4 \\pm 0.5$ °C.\n",
    "\n",
    "### 1. What are the temperature estimations updated by the new measurement?\n",
    "\n",
    "### 2. What are the associated estimation uncertainties?"
   ]
  },
  {
   "cell_type": "code",
   "execution_count": 8,
   "metadata": {},
   "outputs": [],
   "source": [
    "import numpy as np\n",
    "import scipy.integrate as integrate\n",
    "import matplotlib.pyplot as plt\n",
    "%matplotlib inline\n",
    "\n",
    "def blue(xf,Pf,yobs,Robs,Hobs):\n",
    "    \"\"\"compute the BLUE solution.\"\"\"\n",
    "    HPf=np.dot(Hobs,Pf)\n",
    "    InnovM=np.dot(Hobs,np.transpose(HPf))+Robs\n",
    "    Innovation=yobs-np.dot(Hobs,xf)\n",
    "    if np.shape(InnovM)[0]==1:\n",
    "        Kgain=np.transpose(HPf)/InnovM\n",
    "        print Innovation.shape, Kgain.shape\n",
    "        xa=xf+Innovation*Kgain\n",
    "        Pa=Pf-np.outer(Kgain,HPf)\n",
    "    else:  \n",
    "        Kgain=np.dot(np.transpose(HPf),np.linalg.inv(InnovM))\n",
    "        xa=xf+np.dot(Kgain,Innovation)\n",
    "        Pa=Pf-np.dot(Kgain,HPf)\n",
    "    return xa,Pa"
   ]
  },
  {
   "cell_type": "code",
   "execution_count": null,
   "metadata": {
    "collapsed": true
   },
   "outputs": [],
   "source": []
  }
 ],
 "metadata": {
  "kernelspec": {
   "display_name": "Python 3",
   "language": "python",
   "name": "python3"
  },
  "language_info": {
   "codemirror_mode": {
    "name": "ipython",
    "version": 3
   },
   "file_extension": ".py",
   "mimetype": "text/x-python",
   "name": "python",
   "nbconvert_exporter": "python",
   "pygments_lexer": "ipython3",
   "version": "3.7.4"
  }
 },
 "nbformat": 4,
 "nbformat_minor": 2
}
