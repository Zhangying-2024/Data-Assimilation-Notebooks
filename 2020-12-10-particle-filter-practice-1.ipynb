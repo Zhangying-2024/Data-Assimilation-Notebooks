{
 "cells": [
  {
   "cell_type": "markdown",
   "metadata": {},
   "source": [
    "# Particle filter practice\n",
    "\n",
    "To discover the PF analysis machinery.\n",
    "\n",
    "You are monitoring air temperature in Grenoble, with some model and a thermometer installed on the top of your roof. Your 6-member ensemble simulation provides temperature of 8, 8.7, 9.3, 9.5, 9.8, 10.2 . And your thermometer provides an observation of 9.25. You estimate the standard deviation of the thermometer uncertainty at 0.25. This incertainty is assumed Gaussian.\n",
    "\n",
    "1. Compute the weights of the ensemble.\n",
    "2. Resample.\n",
    "\n",
    "Feel free to code for your calculations, but you don't have to."
   ]
  },
  {
   "cell_type": "code",
   "execution_count": null,
   "metadata": {},
   "outputs": [],
   "source": []
  }
 ],
 "metadata": {
  "kernelspec": {
   "display_name": "Python 3",
   "language": "python",
   "name": "python3"
  },
  "language_info": {
   "codemirror_mode": {
    "name": "ipython",
    "version": 3
   },
   "file_extension": ".py",
   "mimetype": "text/x-python",
   "name": "python",
   "nbconvert_exporter": "python",
   "pygments_lexer": "ipython3",
   "version": "3.7.4"
  }
 },
 "nbformat": 4,
 "nbformat_minor": 2
}
